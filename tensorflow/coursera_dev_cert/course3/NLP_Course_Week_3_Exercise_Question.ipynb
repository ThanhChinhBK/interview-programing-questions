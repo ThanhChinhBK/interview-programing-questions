{
  "nbformat": 4,
  "nbformat_minor": 0,
  "metadata": {
    "accelerator": "GPU",
    "colab": {
      "name": "NLP Course - Week 3 Exercise Question.ipynb",
      "provenance": [],
      "toc_visible": true
    },
    "kernelspec": {
      "display_name": "Python 3",
      "name": "python3"
    }
  },
  "cells": [
    {
      "cell_type": "code",
      "metadata": {
        "id": "zX4Kg8DUTKWO"
      },
      "source": [
        "#@title Licensed under the Apache License, Version 2.0 (the \"License\");\n",
        "# you may not use this file except in compliance with the License.\n",
        "# You may obtain a copy of the License at\n",
        "#\n",
        "# https://www.apache.org/licenses/LICENSE-2.0\n",
        "#\n",
        "# Unless required by applicable law or agreed to in writing, software\n",
        "# distributed under the License is distributed on an \"AS IS\" BASIS,\n",
        "# WITHOUT WARRANTIES OR CONDITIONS OF ANY KIND, either express or implied.\n",
        "# See the License for the specific language governing permissions and\n",
        "# limitations under the License."
      ],
      "execution_count": 1,
      "outputs": []
    },
    {
      "cell_type": "code",
      "metadata": {
        "id": "hmA6EzkQJ5jt"
      },
      "source": [
        "import json\n",
        "import tensorflow as tf\n",
        "import csv\n",
        "import random\n",
        "import numpy as np\n",
        "\n",
        "from tensorflow.keras.preprocessing.text import Tokenizer\n",
        "from tensorflow.keras.preprocessing.sequence import pad_sequences\n",
        "from tensorflow.keras.utils import to_categorical\n",
        "from tensorflow.keras import regularizers\n",
        "\n",
        "\n",
        "embedding_dim = 100\n",
        "max_length = 16\n",
        "trunc_type='post'\n",
        "padding_type='post'\n",
        "oov_tok = \"<OOV>\"\n",
        "training_size=160000#Your dataset size here. Experiment using smaller values (i.e. 16000), but don't forget to train on at least 160000 to see the best effects\n",
        "test_portion=.1\n",
        "\n",
        "corpus = []\n"
      ],
      "execution_count": 1,
      "outputs": []
    },
    {
      "cell_type": "code",
      "metadata": {
        "colab": {
          "base_uri": "https://localhost:8080/"
        },
        "id": "bM0l_dORKqE0",
        "outputId": "97539a06-29d7-401d-8643-ab47fa09b9be"
      },
      "source": [
        "# Note that I cleaned the Stanford dataset to remove LATIN1 encoding to make it easier for Python CSV reader\n",
        "# You can do that yourself with:\n",
        "# iconv -f LATIN1 -t UTF8 training.1600000.processed.noemoticon.csv -o training_cleaned.csv\n",
        "# I then hosted it on my site to make it easier to use in this notebook\n",
        "\n",
        "!wget --no-check-certificate \\\n",
        "    https://storage.googleapis.com/laurencemoroney-blog.appspot.com/training_cleaned.csv \\\n",
        "    -O /tmp/training_cleaned.csv\n",
        "\n",
        "num_sentences = 0\n",
        "\n",
        "with open(\"/tmp/training_cleaned.csv\") as csvfile:\n",
        "    reader = csv.reader(csvfile, delimiter=',')\n",
        "    for row in reader:\n",
        "        list_item=[]\n",
        "        list_item.append(row[5])\n",
        "        this_label=row[0]\n",
        "        if this_label=='0':\n",
        "            list_item.append(0)\n",
        "        else:\n",
        "            list_item.append(1)\n",
        "        num_sentences = num_sentences + 1\n",
        "        corpus.append(list_item)\n"
      ],
      "execution_count": 2,
      "outputs": [
        {
          "output_type": "stream",
          "text": [
            "--2021-05-28 15:48:54--  https://storage.googleapis.com/laurencemoroney-blog.appspot.com/training_cleaned.csv\n",
            "Resolving storage.googleapis.com (storage.googleapis.com)... 74.125.142.128, 74.125.195.128, 173.194.202.128, ...\n",
            "Connecting to storage.googleapis.com (storage.googleapis.com)|74.125.142.128|:443... connected.\n",
            "HTTP request sent, awaiting response... 200 OK\n",
            "Length: 238942690 (228M) [application/octet-stream]\n",
            "Saving to: ‘/tmp/training_cleaned.csv’\n",
            "\n",
            "/tmp/training_clean 100%[===================>] 227.87M   220MB/s    in 1.0s    \n",
            "\n",
            "2021-05-28 15:48:55 (220 MB/s) - ‘/tmp/training_cleaned.csv’ saved [238942690/238942690]\n",
            "\n"
          ],
          "name": "stdout"
        }
      ]
    },
    {
      "cell_type": "code",
      "metadata": {
        "colab": {
          "base_uri": "https://localhost:8080/"
        },
        "id": "3kxblBUjEUX-",
        "outputId": "3aa0104b-a53d-48b7-8ae6-f89d346b2478"
      },
      "source": [
        "print(num_sentences)\n",
        "print(len(corpus))\n",
        "print(corpus[1])\n",
        "\n",
        "# Expected Output:\n",
        "# 1600000\n",
        "# 1600000\n",
        "# [\"is upset that he can't update his Facebook by texting it... and might cry as a result  School today also. Blah!\", 0]"
      ],
      "execution_count": 3,
      "outputs": [
        {
          "output_type": "stream",
          "text": [
            "1600000\n",
            "1600000\n",
            "[\"is upset that he can't update his Facebook by texting it... and might cry as a result  School today also. Blah!\", 0]\n"
          ],
          "name": "stdout"
        }
      ]
    },
    {
      "cell_type": "code",
      "metadata": {
        "id": "ohOGz24lsNAD"
      },
      "source": [
        "sentences=[]\n",
        "labels=[]\n",
        "random.shuffle(corpus)\n",
        "for x in range(training_size):\n",
        "    sentences.append(corpus[x][0])\n",
        "    labels.append(corpus[x][1])\n",
        "\n",
        "\n",
        "tokenizer = Tokenizer()\n",
        "tokenizer.fit_on_texts(sentences)\n",
        "\n",
        "word_index = tokenizer.word_index\n",
        "vocab_size=len(word_index)\n",
        "\n",
        "sequences = tokenizer.texts_to_sequences(sentences)\n",
        "padded = pad_sequences(sequences, maxlen=max_length, padding=padding_type)\n",
        "\n",
        "split = int(test_portion * training_size)\n",
        "\n",
        "test_sequences = padded[:split]\n",
        "training_sequences = padded[split:training_size]\n",
        "test_labels = labels[:split]\n",
        "training_labels = labels[split:training_size]"
      ],
      "execution_count": 4,
      "outputs": []
    },
    {
      "cell_type": "code",
      "metadata": {
        "id": "PpQbV8XknFVe",
        "outputId": "b2ba2c77-33b3-420b-92bb-afd74542af4d",
        "colab": {
          "base_uri": "https://localhost:8080/"
        }
      },
      "source": [
        "training_sequences"
      ],
      "execution_count": 26,
      "outputs": [
        {
          "output_type": "execute_result",
          "data": {
            "text/plain": [
              "array([[29983,    16,   113, ...,     0,     0,     0],\n",
              "       [  211, 10616,   126, ...,   663,   201,   109],\n",
              "       [29985,  1300,     7, ...,     0,     0,     0],\n",
              "       ...,\n",
              "       [ 1280,    75,    77, ...,    13,     5,   400],\n",
              "       [   53,   275,   178, ...,    62,    76,    15],\n",
              "       [84114,   153,     9, ...,     0,     0,     0]], dtype=int32)"
            ]
          },
          "metadata": {
            "tags": []
          },
          "execution_count": 26
        }
      ]
    },
    {
      "cell_type": "code",
      "metadata": {
        "colab": {
          "base_uri": "https://localhost:8080/"
        },
        "id": "gIrtRem1En3N",
        "outputId": "d025c7e1-b39a-4c71-b61c-7d3d82039b8d"
      },
      "source": [
        "print(vocab_size)\n",
        "print(word_index['i'])\n",
        "# Expected Output\n",
        "# 138858\n",
        "# 1"
      ],
      "execution_count": 5,
      "outputs": [
        {
          "output_type": "stream",
          "text": [
            "138738\n",
            "1\n"
          ],
          "name": "stdout"
        }
      ]
    },
    {
      "cell_type": "code",
      "metadata": {
        "colab": {
          "base_uri": "https://localhost:8080/"
        },
        "id": "C1zdgJkusRh0",
        "outputId": "a4c33f22-a115-4144-a4f6-88bdbf8aa948"
      },
      "source": [
        "# Note this is the 100 dimension version of GloVe from Stanford\n",
        "# I unzipped and hosted it on my site to make this notebook easier\n",
        "!wget --no-check-certificate \\\n",
        "    https://storage.googleapis.com/laurencemoroney-blog.appspot.com/glove.zip \\\n",
        "    -O /tmp/glove.zip\n",
        "! unzip /tmp/glove.zip -y\n",
        "embeddings_index = {};\n",
        "with open('glove.twitter.27B.25d.txt') as f:\n",
        "    for line in f:\n",
        "        values = line.split();\n",
        "        word = values[0];\n",
        "        coefs = np.asarray(values[1:], dtype='float32');\n",
        "        embeddings_index[word] = coefs;\n",
        "embedding_dim = 25\n",
        "embeddings_matrix = np.zeros((vocab_size+1, embedding_dim));\n",
        "for word, i in word_index.items():\n",
        "    embedding_vector = embeddings_index.get(word);\n",
        "    if embedding_vector is not None:\n",
        "        embeddings_matrix[i] = embedding_vector;"
      ],
      "execution_count": 6,
      "outputs": [
        {
          "output_type": "stream",
          "text": [
            "--2021-05-28 15:50:26--  https://storage.googleapis.com/laurencemoroney-blog.appspot.com/glove.zip\n",
            "Resolving storage.googleapis.com (storage.googleapis.com)... 74.125.142.128, 74.125.195.128, 173.194.202.128, ...\n",
            "Connecting to storage.googleapis.com (storage.googleapis.com)|74.125.142.128|:443... connected.\n",
            "HTTP request sent, awaiting response... 200 OK\n",
            "Length: 112372936 (107M) [application/zip]\n",
            "Saving to: ‘/tmp/glove.zip’\n",
            "\n",
            "/tmp/glove.zip      100%[===================>] 107.17M   218MB/s    in 0.5s    \n",
            "\n",
            "2021-05-28 15:50:27 (218 MB/s) - ‘/tmp/glove.zip’ saved [112372936/112372936]\n",
            "\n",
            "Archive:  /tmp/glove.zip\n",
            "caution: filename not matched:  -y\n"
          ],
          "name": "stdout"
        }
      ]
    },
    {
      "cell_type": "code",
      "metadata": {
        "colab": {
          "base_uri": "https://localhost:8080/"
        },
        "id": "71NLk_lpFLNt",
        "outputId": "c7fa5a32-9457-4a98-d8ca-dce5a46dc87b"
      },
      "source": [
        "print(len(embeddings_matrix))\n",
        "# Expected Output\n",
        "# 138859"
      ],
      "execution_count": 7,
      "outputs": [
        {
          "output_type": "stream",
          "text": [
            "138739\n"
          ],
          "name": "stdout"
        }
      ]
    },
    {
      "cell_type": "code",
      "metadata": {
        "id": "I4EEPiX9nrtF"
      },
      "source": [
        "training_sequences = np.array(training_sequences)"
      ],
      "execution_count": 8,
      "outputs": []
    },
    {
      "cell_type": "code",
      "metadata": {
        "colab": {
          "base_uri": "https://localhost:8080/"
        },
        "id": "iKKvbuEBOGFz",
        "outputId": "10e37a72-7d06-4cc3-8c5c-70d53a897927"
      },
      "source": [
        "model = tf.keras.Sequential([\n",
        "    tf.keras.layers.Embedding(vocab_size+1, embedding_dim, input_length=max_length, weights=[embeddings_matrix], trainable=False),\n",
        "    tf.keras.layers.Dropout(0.2),\n",
        "    tf.keras.layers.Conv1D(64, 5, activation='relu'),\n",
        "    tf.keras.layers.MaxPooling1D(pool_size=4),\n",
        "    tf.keras.layers.LSTM(64),\n",
        "    tf.keras.layers.Dense(1, activation='sigmoid')\n",
        "])\n",
        "model.compile(loss='binary_crossentropy',optimizer='adam',metrics=['accuracy'])\n",
        "model.summary()\n",
        "\n",
        "num_epochs = 50\n",
        "history = model.fit(training_sequences, np.array(training_labels), epochs=num_epochs, validation_data=(test_sequences, np.array(test_labels)), verbose=2)\n",
        "\n",
        "print(\"Training Complete\")\n"
      ],
      "execution_count": 9,
      "outputs": [
        {
          "output_type": "stream",
          "text": [
            "Model: \"sequential\"\n",
            "_________________________________________________________________\n",
            "Layer (type)                 Output Shape              Param #   \n",
            "=================================================================\n",
            "embedding (Embedding)        (None, 16, 25)            3468475   \n",
            "_________________________________________________________________\n",
            "dropout (Dropout)            (None, 16, 25)            0         \n",
            "_________________________________________________________________\n",
            "conv1d (Conv1D)              (None, 12, 64)            8064      \n",
            "_________________________________________________________________\n",
            "max_pooling1d (MaxPooling1D) (None, 3, 64)             0         \n",
            "_________________________________________________________________\n",
            "lstm (LSTM)                  (None, 64)                33024     \n",
            "_________________________________________________________________\n",
            "dense (Dense)                (None, 1)                 65        \n",
            "=================================================================\n",
            "Total params: 3,509,628\n",
            "Trainable params: 41,153\n",
            "Non-trainable params: 3,468,475\n",
            "_________________________________________________________________\n",
            "Epoch 1/50\n",
            "4500/4500 - 17s - loss: 0.5938 - accuracy: 0.6770 - val_loss: 0.5556 - val_accuracy: 0.7108\n",
            "Epoch 2/50\n",
            "4500/4500 - 13s - loss: 0.5670 - accuracy: 0.7014 - val_loss: 0.5382 - val_accuracy: 0.7326\n",
            "Epoch 3/50\n",
            "4500/4500 - 13s - loss: 0.5561 - accuracy: 0.7090 - val_loss: 0.5308 - val_accuracy: 0.7351\n",
            "Epoch 4/50\n",
            "4500/4500 - 13s - loss: 0.5484 - accuracy: 0.7143 - val_loss: 0.5273 - val_accuracy: 0.7337\n",
            "Epoch 5/50\n",
            "4500/4500 - 13s - loss: 0.5448 - accuracy: 0.7187 - val_loss: 0.5208 - val_accuracy: 0.7359\n",
            "Epoch 6/50\n",
            "4500/4500 - 13s - loss: 0.5411 - accuracy: 0.7200 - val_loss: 0.5200 - val_accuracy: 0.7368\n",
            "Epoch 7/50\n",
            "4500/4500 - 13s - loss: 0.5365 - accuracy: 0.7239 - val_loss: 0.5286 - val_accuracy: 0.7289\n",
            "Epoch 8/50\n",
            "4500/4500 - 13s - loss: 0.5325 - accuracy: 0.7276 - val_loss: 0.5161 - val_accuracy: 0.7404\n",
            "Epoch 9/50\n",
            "4500/4500 - 13s - loss: 0.5300 - accuracy: 0.7303 - val_loss: 0.5144 - val_accuracy: 0.7418\n",
            "Epoch 10/50\n",
            "4500/4500 - 13s - loss: 0.5291 - accuracy: 0.7294 - val_loss: 0.5104 - val_accuracy: 0.7466\n",
            "Epoch 11/50\n",
            "4500/4500 - 13s - loss: 0.5254 - accuracy: 0.7325 - val_loss: 0.5129 - val_accuracy: 0.7454\n",
            "Epoch 12/50\n",
            "4500/4500 - 13s - loss: 0.5240 - accuracy: 0.7347 - val_loss: 0.5126 - val_accuracy: 0.7440\n",
            "Epoch 13/50\n",
            "4500/4500 - 13s - loss: 0.5223 - accuracy: 0.7347 - val_loss: 0.5140 - val_accuracy: 0.7424\n",
            "Epoch 14/50\n",
            "4500/4500 - 13s - loss: 0.5190 - accuracy: 0.7381 - val_loss: 0.5134 - val_accuracy: 0.7442\n",
            "Epoch 15/50\n",
            "4500/4500 - 13s - loss: 0.5191 - accuracy: 0.7371 - val_loss: 0.5134 - val_accuracy: 0.7448\n",
            "Epoch 16/50\n",
            "4500/4500 - 13s - loss: 0.5177 - accuracy: 0.7368 - val_loss: 0.5127 - val_accuracy: 0.7413\n",
            "Epoch 17/50\n",
            "4500/4500 - 13s - loss: 0.5162 - accuracy: 0.7397 - val_loss: 0.5095 - val_accuracy: 0.7442\n",
            "Epoch 18/50\n",
            "4500/4500 - 13s - loss: 0.5147 - accuracy: 0.7392 - val_loss: 0.5108 - val_accuracy: 0.7459\n",
            "Epoch 19/50\n",
            "4500/4500 - 13s - loss: 0.5158 - accuracy: 0.7390 - val_loss: 0.5191 - val_accuracy: 0.7371\n",
            "Epoch 20/50\n",
            "4500/4500 - 13s - loss: 0.5144 - accuracy: 0.7396 - val_loss: 0.5112 - val_accuracy: 0.7434\n",
            "Epoch 21/50\n",
            "4500/4500 - 13s - loss: 0.5123 - accuracy: 0.7411 - val_loss: 0.5142 - val_accuracy: 0.7433\n",
            "Epoch 22/50\n",
            "4500/4500 - 13s - loss: 0.5106 - accuracy: 0.7426 - val_loss: 0.5112 - val_accuracy: 0.7478\n",
            "Epoch 23/50\n",
            "4500/4500 - 13s - loss: 0.5120 - accuracy: 0.7416 - val_loss: 0.5098 - val_accuracy: 0.7458\n",
            "Epoch 24/50\n",
            "4500/4500 - 13s - loss: 0.5110 - accuracy: 0.7416 - val_loss: 0.5093 - val_accuracy: 0.7449\n",
            "Epoch 25/50\n",
            "4500/4500 - 13s - loss: 0.5107 - accuracy: 0.7415 - val_loss: 0.5068 - val_accuracy: 0.7494\n",
            "Epoch 26/50\n",
            "4500/4500 - 13s - loss: 0.5099 - accuracy: 0.7419 - val_loss: 0.5183 - val_accuracy: 0.7381\n",
            "Epoch 27/50\n",
            "4500/4500 - 13s - loss: 0.5095 - accuracy: 0.7431 - val_loss: 0.5122 - val_accuracy: 0.7441\n",
            "Epoch 28/50\n",
            "4500/4500 - 13s - loss: 0.5088 - accuracy: 0.7447 - val_loss: 0.5100 - val_accuracy: 0.7469\n",
            "Epoch 29/50\n",
            "4500/4500 - 13s - loss: 0.5076 - accuracy: 0.7443 - val_loss: 0.5088 - val_accuracy: 0.7438\n",
            "Epoch 30/50\n",
            "4500/4500 - 13s - loss: 0.5086 - accuracy: 0.7443 - val_loss: 0.5107 - val_accuracy: 0.7454\n",
            "Epoch 31/50\n",
            "4500/4500 - 13s - loss: 0.5070 - accuracy: 0.7462 - val_loss: 0.5097 - val_accuracy: 0.7454\n",
            "Epoch 32/50\n",
            "4500/4500 - 13s - loss: 0.5069 - accuracy: 0.7452 - val_loss: 0.5112 - val_accuracy: 0.7475\n",
            "Epoch 33/50\n",
            "4500/4500 - 13s - loss: 0.5061 - accuracy: 0.7457 - val_loss: 0.5118 - val_accuracy: 0.7456\n",
            "Epoch 34/50\n",
            "4500/4500 - 13s - loss: 0.5046 - accuracy: 0.7469 - val_loss: 0.5104 - val_accuracy: 0.7432\n",
            "Epoch 35/50\n",
            "4500/4500 - 13s - loss: 0.5051 - accuracy: 0.7466 - val_loss: 0.5104 - val_accuracy: 0.7477\n",
            "Epoch 36/50\n",
            "4500/4500 - 13s - loss: 0.5062 - accuracy: 0.7449 - val_loss: 0.5118 - val_accuracy: 0.7467\n",
            "Epoch 37/50\n",
            "4500/4500 - 13s - loss: 0.5042 - accuracy: 0.7472 - val_loss: 0.5123 - val_accuracy: 0.7437\n",
            "Epoch 38/50\n",
            "4500/4500 - 13s - loss: 0.5044 - accuracy: 0.7465 - val_loss: 0.5110 - val_accuracy: 0.7456\n",
            "Epoch 39/50\n",
            "4500/4500 - 13s - loss: 0.5041 - accuracy: 0.7472 - val_loss: 0.5097 - val_accuracy: 0.7457\n",
            "Epoch 40/50\n",
            "4500/4500 - 13s - loss: 0.5035 - accuracy: 0.7475 - val_loss: 0.5153 - val_accuracy: 0.7396\n",
            "Epoch 41/50\n",
            "4500/4500 - 13s - loss: 0.5028 - accuracy: 0.7480 - val_loss: 0.5101 - val_accuracy: 0.7471\n",
            "Epoch 42/50\n",
            "4500/4500 - 13s - loss: 0.5031 - accuracy: 0.7478 - val_loss: 0.5094 - val_accuracy: 0.7428\n",
            "Epoch 43/50\n",
            "4500/4500 - 13s - loss: 0.5025 - accuracy: 0.7488 - val_loss: 0.5103 - val_accuracy: 0.7454\n",
            "Epoch 44/50\n",
            "4500/4500 - 13s - loss: 0.5029 - accuracy: 0.7481 - val_loss: 0.5142 - val_accuracy: 0.7406\n",
            "Epoch 45/50\n",
            "4500/4500 - 13s - loss: 0.5022 - accuracy: 0.7483 - val_loss: 0.5099 - val_accuracy: 0.7451\n",
            "Epoch 46/50\n",
            "4500/4500 - 13s - loss: 0.5033 - accuracy: 0.7468 - val_loss: 0.5101 - val_accuracy: 0.7475\n",
            "Epoch 47/50\n",
            "4500/4500 - 13s - loss: 0.5031 - accuracy: 0.7480 - val_loss: 0.5095 - val_accuracy: 0.7468\n",
            "Epoch 48/50\n",
            "4500/4500 - 13s - loss: 0.5026 - accuracy: 0.7480 - val_loss: 0.5101 - val_accuracy: 0.7447\n",
            "Epoch 49/50\n",
            "4500/4500 - 13s - loss: 0.5025 - accuracy: 0.7482 - val_loss: 0.5115 - val_accuracy: 0.7424\n",
            "Epoch 50/50\n",
            "4500/4500 - 13s - loss: 0.5011 - accuracy: 0.7483 - val_loss: 0.5108 - val_accuracy: 0.7474\n",
            "Training Complete\n"
          ],
          "name": "stdout"
        }
      ]
    },
    {
      "cell_type": "code",
      "metadata": {
        "colab": {
          "base_uri": "https://localhost:8080/",
          "height": 607
        },
        "id": "qxju4ItJKO8F",
        "outputId": "8b581b3a-3550-4a0a-b945-94a22854be47"
      },
      "source": [
        "import matplotlib.image  as mpimg\n",
        "import matplotlib.pyplot as plt\n",
        "\n",
        "#-----------------------------------------------------------\n",
        "# Retrieve a list of list results on training and test data\n",
        "# sets for each training epoch\n",
        "#-----------------------------------------------------------\n",
        "acc=history.history['accuracy']\n",
        "val_acc=history.history['val_accuracy']\n",
        "loss=history.history['loss']\n",
        "val_loss=history.history['val_loss']\n",
        "\n",
        "epochs=range(len(acc)) # Get number of epochs\n",
        "\n",
        "#------------------------------------------------\n",
        "# Plot training and validation accuracy per epoch\n",
        "#------------------------------------------------\n",
        "plt.plot(epochs, acc, 'r')\n",
        "plt.plot(epochs, val_acc, 'b')\n",
        "plt.title('Training and validation accuracy')\n",
        "plt.xlabel(\"Epochs\")\n",
        "plt.ylabel(\"Accuracy\")\n",
        "plt.legend([\"Accuracy\", \"Validation Accuracy\"])\n",
        "\n",
        "plt.figure()\n",
        "\n",
        "#------------------------------------------------\n",
        "# Plot training and validation loss per epoch\n",
        "#------------------------------------------------\n",
        "plt.plot(epochs, loss, 'r')\n",
        "plt.plot(epochs, val_loss, 'b')\n",
        "plt.title('Training and validation loss')\n",
        "plt.xlabel(\"Epochs\")\n",
        "plt.ylabel(\"Loss\")\n",
        "plt.legend([\"Loss\", \"Validation Loss\"])\n",
        "\n",
        "plt.figure()\n",
        "\n",
        "\n",
        "# Expected Output\n",
        "# A chart where the validation loss does not increase sharply!"
      ],
      "execution_count": 10,
      "outputs": [
        {
          "output_type": "execute_result",
          "data": {
            "text/plain": [
              "<Figure size 432x288 with 0 Axes>"
            ]
          },
          "metadata": {
            "tags": []
          },
          "execution_count": 10
        },
        {
          "output_type": "display_data",
          "data": {
            "image/png": "[encoded data removed]",
            "text/plain": [
              "<Figure size 432x288 with 1 Axes>"
            ]
          },
          "metadata": {
            "tags": [],
            "needs_background": "light"
          }
        },
        {
          "output_type": "display_data",
          "data": {
            "image/png": "[encoded data removed]",
            "text/plain": [
              "<Figure size 432x288 with 1 Axes>"
            ]
          },
          "metadata": {
            "tags": [],
            "needs_background": "light"
          }
        },
        {
          "output_type": "display_data",
          "data": {
            "text/plain": [
              "<Figure size 432x288 with 0 Axes>"
            ]
          },
          "metadata": {
            "tags": []
          }
        }
      ]
    },
    {
      "cell_type": "code",
      "metadata": {
        "id": "CAPQ7jo_qYQP"
      },
      "source": [
        ""
      ],
      "execution_count": null,
      "outputs": []
    }
  ]
}