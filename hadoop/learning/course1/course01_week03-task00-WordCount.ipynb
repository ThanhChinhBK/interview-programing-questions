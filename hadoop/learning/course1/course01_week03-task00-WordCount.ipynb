{
 "cells": [
  {
   "cell_type": "markdown",
   "metadata": {},
   "source": [
    "#### Common warnings:\n",
    "\n",
    "1. __Backup your solution into the 'work' directory inside the home directory ('/home/jovyan'). It is the only one that state will be saved over sessions.__\n",
    "\n",
    "1. Please, ensure that you call the right interpreter (python2 or python3). Do not write just \"python\" without the major version. There is no guarantee that any particular version of Python is set as the default one in the Grading system.\n",
    "\n",
    "1. One cell must contain only one programming language.\n",
    "E.g. if a cell contains Python code and you also want to call a bash-command (using “!”) in it, you should move the bash to another cell.\n",
    "\n",
    "1. Our IPython converter is an improved version of the standard converter Nbconvert and it can process most of Jupyter's magic commands correctly (e.g. it understands \"%%bash\" and executes the cell as a \"bash\"-script). However, we highly recommend to avoid magics wherever possible.\n",
    "\n",
    "#### Hints for the YARN tasks:\n",
    "\n",
    "1. Please, use relative HDFS paths, i.e. dir1/file1 instead of /user/jovyan/dir1/file1. When you submit the code it will be executed on a real Hadoop cluster. For instance, user ‘jovyan’ may not exist there.\n",
    "\n",
    "1. Hadoop counters’ names should have only small latin letters. One exception: only the first letter of the name can be in upper case.\n",
    "\n",
    "1. In the Hadoop logs the counter of stop words should be before the counter of total words. For doing this please take into account that the counters are printed in the lexicographical order."
   ]
  },
  {
   "cell_type": "code",
   "execution_count": 1,
   "metadata": {},
   "outputs": [
    {
     "name": "stdout",
     "output_type": "stream",
     "text": [
      "Overwriting mapper.py\n"
     ]
    }
   ],
   "source": [
    "%%writefile mapper.py\n",
    "\n",
    "import sys\n",
    "import re\n",
    "\n",
    "\n",
    "def eprint(*args, **kwargs):\n",
    "    print(*args, file=sys.stderr, **kwargs)\n",
    "\n",
    "for line in sys.stdin:\n",
    "    try:\n",
    "        article_id, text = line.strip().split('\\t', 1)\n",
    "    except ValueError as e:\n",
    "        continue\n",
    "    words = re.split(\"\\W*\\s+\\W*\", text, flags=re.UNICODE)\n",
    "    for word in words:\n",
    "        eprint(\"reporter:counter:Wiki stats,Total words,%d\" % 1)\n",
    "        print(\"%s\\t%d\" % (word.lower(), 1))"
   ]
  },
  {
   "cell_type": "code",
   "execution_count": 2,
   "metadata": {},
   "outputs": [
    {
     "name": "stdout",
     "output_type": "stream",
     "text": [
      "Overwriting reducer.py\n"
     ]
    }
   ],
   "source": [
    "%%writefile reducer.py\n",
    "\n",
    "import sys\n",
    "\n",
    "current_key = None\n",
    "word_sum = 0"
   ]
  },
  {
   "cell_type": "code",
   "execution_count": 3,
   "metadata": {},
   "outputs": [
    {
     "name": "stdout",
     "output_type": "stream",
     "text": [
      "Appending to reducer.py\n"
     ]
    }
   ],
   "source": [
    "%%writefile -a reducer.py\n",
    "\n",
    "for line in sys.stdin:\n",
    "    try:\n",
    "        key, count = line.strip().split('\\t', 1)\n",
    "        count = int(count)\n",
    "    except ValueError as e:\n",
    "        continue\n",
    "    if current_key != key:\n",
    "        if current_key:\n",
    "            print(\"%s\\t%d\" % (current_key, word_sum))\n",
    "        word_sum = 0\n",
    "        current_key = key\n",
    "    word_sum += count\n",
    "\n",
    "if current_key:\n",
    "    print(\"%s\\t%d\" % (current_key, word_sum))"
   ]
  },
  {
   "cell_type": "code",
   "execution_count": 4,
   "metadata": {},
   "outputs": [
    {
     "name": "stdout",
     "output_type": "stream",
     "text": [
      "Found 2 items\n",
      "drwxrwxrwx   - jovyan supergroup          0 2020-08-04 06:35 /data/twitter\n",
      "drwxrwxrwx   - jovyan supergroup          0 2020-08-04 06:35 /data/wiki\n"
     ]
    }
   ],
   "source": [
    "! hdfs dfs -ls /data/"
   ]
  },
  {
   "cell_type": "markdown",
   "metadata": {},
   "source": [
    "Only the answer to your task should be printed in the output stream (__stdout__) in the last cell. There should be no more output in this stream. In order to get rid of garbage [junk lines] (e.g. created by `hdfs dfs -rm` or `yarn` commands) redirect the output to /dev/null.\n",
    "\n",
    "#### Final notice:\n",
    "\n",
    "1. Please take into account that you must __not__ redirect __stderr__ to anywhere. Hadoop, Hive, and Spark print their logs to stderr and the Grading system also reads and analyses it.\n",
    "\n",
    "1. During checking the code from the notebook, the system runs all notebook's cells and reads the output of only the last filled cell. It is clear that any exception should not be thrown in the running cells. If you decide to write some text in a cell, you should change the style of the cell to Markdown (Cell -> Cell type -> Markdown).\n",
    "\n",
    "1. The Grader takes into account the output from the sample dataset you have in the notebook. Therefore, you have to \"Run All\" cells in the notebook before you send the ipynb solution.\n",
    "\n",
    "1. The name of the notebook must contain only Roman letters, numbers and characters “-” or “_”. For example, Windows adds something like \" (2)\" (with the leading space) at the end of a filename if you try to download a file with the same name. This is a problem, because you will have a space character and curly braces \"(\" and \")\". "
   ]
  },
  {
   "cell_type": "code",
   "execution_count": 5,
   "metadata": {},
   "outputs": [
    {
     "name": "stdout",
     "output_type": "stream",
     "text": [
      "0%however\t1\n",
      "0&\\mathrm{if\t1\n",
      "0(8)320-1234\t1\n",
      "0)).(1\t2\n",
      "0,03\t1\n",
      "0,1,...,n\t1\n",
      "0,1,0\t1\n",
      "0,1,\\dots,n\t1\n",
      "0,5\t1\n",
      "0,50\t1\n"
     ]
    },
    {
     "name": "stderr",
     "output_type": "stream",
     "text": [
      "rm: `coursera_mr_task0': No such file or directory\n",
      "20/08/04 07:08:11 INFO client.RMProxy: Connecting to ResourceManager at /0.0.0.0:8032\n",
      "20/08/04 07:08:11 INFO client.RMProxy: Connecting to ResourceManager at /0.0.0.0:8032\n",
      "20/08/04 07:08:12 INFO mapred.FileInputFormat: Total input files to process : 1\n",
      "20/08/04 07:08:12 INFO mapreduce.JobSubmitter: number of splits:2\n",
      "20/08/04 07:08:13 INFO Configuration.deprecation: yarn.resourcemanager.system-metrics-publisher.enabled is deprecated. Instead, use yarn.system-metrics-publisher.enabled\n",
      "20/08/04 07:08:13 INFO mapreduce.JobSubmitter: Submitting tokens for job: job_1596524846672_0001\n",
      "20/08/04 07:08:13 INFO conf.Configuration: resource-types.xml not found\n",
      "20/08/04 07:08:13 INFO resource.ResourceUtils: Unable to find 'resource-types.xml'.\n",
      "20/08/04 07:08:13 INFO resource.ResourceUtils: Adding resource type - name = memory-mb, units = Mi, type = COUNTABLE\n",
      "20/08/04 07:08:13 INFO resource.ResourceUtils: Adding resource type - name = vcores, units = , type = COUNTABLE\n",
      "20/08/04 07:08:14 INFO impl.YarnClientImpl: Submitted application application_1596524846672_0001\n",
      "20/08/04 07:08:14 INFO mapreduce.Job: The url to track the job: http://172.17.0.5:8088/proxy/application_1596524846672_0001/\n",
      "20/08/04 07:08:14 INFO mapreduce.Job: Running job: job_1596524846672_0001\n",
      "20/08/04 07:08:23 INFO mapreduce.Job: Job job_1596524846672_0001 running in uber mode : false\n",
      "20/08/04 07:08:23 INFO mapreduce.Job:  map 0% reduce 0%\n",
      "20/08/04 07:08:41 INFO mapreduce.Job:  map 24% reduce 0%\n",
      "20/08/04 07:08:47 INFO mapreduce.Job:  map 38% reduce 0%\n",
      "20/08/04 07:08:53 INFO mapreduce.Job:  map 46% reduce 0%\n",
      "20/08/04 07:09:05 INFO mapreduce.Job:  map 53% reduce 0%\n",
      "20/08/04 07:09:11 INFO mapreduce.Job:  map 66% reduce 0%\n",
      "20/08/04 07:09:17 INFO mapreduce.Job:  map 67% reduce 0%\n",
      "20/08/04 07:09:18 INFO mapreduce.Job:  map 83% reduce 0%\n",
      "20/08/04 07:09:19 INFO mapreduce.Job:  map 100% reduce 0%\n",
      "20/08/04 07:09:29 INFO mapreduce.Job:  map 100% reduce 13%\n",
      "20/08/04 07:09:34 INFO mapreduce.Job:  map 100% reduce 25%\n",
      "20/08/04 07:09:39 INFO mapreduce.Job:  map 100% reduce 38%\n",
      "20/08/04 07:09:42 INFO mapreduce.Job:  map 100% reduce 63%\n",
      "20/08/04 07:09:44 INFO mapreduce.Job:  map 100% reduce 75%\n",
      "20/08/04 07:09:46 INFO mapreduce.Job:  map 100% reduce 88%\n",
      "20/08/04 07:09:47 INFO mapreduce.Job:  map 100% reduce 100%\n",
      "20/08/04 07:09:47 INFO mapreduce.Job: Job job_1596524846672_0001 completed successfully\n",
      "20/08/04 07:09:48 INFO mapreduce.Job: Counters: 51\n",
      "\tFile System Counters\n",
      "\t\tFILE: Number of bytes read=17959306\n",
      "\t\tFILE: Number of bytes written=28951320\n",
      "\t\tFILE: Number of read operations=0\n",
      "\t\tFILE: Number of large read operations=0\n",
      "\t\tFILE: Number of write operations=0\n",
      "\t\tHDFS: Number of bytes read=76874501\n",
      "\t\tHDFS: Number of bytes written=5370711\n",
      "\t\tHDFS: Number of read operations=30\n",
      "\t\tHDFS: Number of large read operations=0\n",
      "\t\tHDFS: Number of write operations=16\n",
      "\tJob Counters \n",
      "\t\tKilled reduce tasks=1\n",
      "\t\tLaunched map tasks=2\n",
      "\t\tLaunched reduce tasks=8\n",
      "\t\tData-local map tasks=2\n",
      "\t\tTotal time spent by all maps in occupied slots (ms)=106845\n",
      "\t\tTotal time spent by all reduces in occupied slots (ms)=115612\n",
      "\t\tTotal time spent by all map tasks (ms)=106845\n",
      "\t\tTotal time spent by all reduce tasks (ms)=115612\n",
      "\t\tTotal vcore-milliseconds taken by all map tasks=106845\n",
      "\t\tTotal vcore-milliseconds taken by all reduce tasks=115612\n",
      "\t\tTotal megabyte-milliseconds taken by all map tasks=109409280\n",
      "\t\tTotal megabyte-milliseconds taken by all reduce tasks=118386688\n",
      "\tMap-Reduce Framework\n",
      "\t\tMap input records=4100\n",
      "\t\tMap output records=11937375\n",
      "\t\tMap output bytes=97842608\n",
      "\t\tMap output materialized bytes=8953092\n",
      "\t\tInput split bytes=228\n",
      "\t\tCombine input records=11937375\n",
      "\t\tCombine output records=640030\n",
      "\t\tReduce input groups=427188\n",
      "\t\tReduce shuffle bytes=8953092\n",
      "\t\tReduce input records=640030\n",
      "\t\tReduce output records=427188\n",
      "\t\tSpilled Records=1920090\n",
      "\t\tShuffled Maps =16\n",
      "\t\tFailed Shuffles=0\n",
      "\t\tMerged Map outputs=16\n",
      "\t\tGC time elapsed (ms)=2796\n",
      "\t\tCPU time spent (ms)=89060\n",
      "\t\tPhysical memory (bytes) snapshot=2014171136\n",
      "\t\tVirtual memory (bytes) snapshot=19231137792\n",
      "\t\tTotal committed heap usage (bytes)=1182793728\n",
      "\tShuffle Errors\n",
      "\t\tBAD_ID=0\n",
      "\t\tCONNECTION=0\n",
      "\t\tIO_ERROR=0\n",
      "\t\tWRONG_LENGTH=0\n",
      "\t\tWRONG_MAP=0\n",
      "\t\tWRONG_REDUCE=0\n",
      "\tWiki stats\n",
      "\t\tTotal words=11937375\n",
      "\tFile Input Format Counters \n",
      "\t\tBytes Read=76874273\n",
      "\tFile Output Format Counters \n",
      "\t\tBytes Written=5370711\n",
      "20/08/04 07:09:48 INFO streaming.StreamJob: Output directory: coursera_mr_task0\n",
      "cat: Unable to write to output stream.\n"
     ]
    }
   ],
   "source": [
    "%%bash\n",
    "\n",
    "OUT_DIR=\"coursera_mr_task0\"\n",
    "NUM_REDUCERS=8  # Do not change it\n",
    "\n",
    "hdfs dfs -rm -r -skipTrash ${OUT_DIR} > /dev/null\n",
    "\n",
    "yarn jar /opt/cloudera/parcels/CDH/lib/hadoop-mapreduce/hadoop-streaming.jar \\\n",
    "    -D mapreduce.job.name=\"Streaming Word Count\" \\\n",
    "    -D mapreduce.job.reduces=${NUM_REDUCERS} \\\n",
    "    -files mapper.py,reducer.py \\\n",
    "    -mapper \"python3 mapper.py\" \\\n",
    "    -combiner \"python3 reducer.py\" \\\n",
    "    -reducer \"python3 reducer.py\" \\\n",
    "    -input /data/wiki/en_articles_part \\\n",
    "    -output ${OUT_DIR} > /dev/null\n",
    "\n",
    "hdfs dfs -cat ${OUT_DIR}/part-00000 | head"
   ]
  }
 ],
 "metadata": {
  "kernelspec": {
   "display_name": "Python 3",
   "language": "python",
   "name": "python3"
  },
  "language_info": {
   "codemirror_mode": {
    "name": "ipython",
    "version": 3
   },
   "file_extension": ".py",
   "mimetype": "text/x-python",
   "name": "python",
   "nbconvert_exporter": "python",
   "pygments_lexer": "ipython3",
   "version": "3.6.6"
  }
 },
 "nbformat": 4,
 "nbformat_minor": 2
}
